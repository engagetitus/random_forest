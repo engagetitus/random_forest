{
 "cells": [
  {
   "cell_type": "code",
   "execution_count": null,
   "metadata": {},
   "outputs": [],
   "source": [
    "# Importing necessary libraries\n",
    "import pandas as pd\n",
    "import numpy as np\n",
    "import seaborn as sns"
   ]
  },
  {
   "cell_type": "code",
   "execution_count": null,
   "metadata": {},
   "outputs": [],
   "source": [
    "# Load the Penguins dataset\n",
    "df = sns.load_dataset('penguins')"
   ]
  },
  {
   "cell_type": "code",
   "execution_count": null,
   "metadata": {},
   "outputs": [],
   "source": [
    "# Drop rows with missing values for simplicity\n",
    "df = df.dropna()"
   ]
  },
  {
   "cell_type": "code",
   "execution_count": null,
   "metadata": {},
   "outputs": [],
   "source": [
    "# Encode the target variable (species) as numerical\n",
    "from sklearn.preprocessing import LabelEncoder\n",
    "label_encoder = LabelEncoder()\n",
    "df['species_encoded'] = label_encoder.fit_transform(df['species'])\n",
    "\n",
    "# Feature and target\n",
    "X = df['sex']  # Example feature\n",
    "y = df['species_encoded']  # Target variable\n",
    "\n",
    "# Convert 'sex' to numerical values (Male: 1, Female: 0)\n",
    "df['sex_encoded'] = df['sex'].map({'Male': 1, 'Female': 0})\n"
   ]
  },
  {
   "cell_type": "markdown",
   "metadata": {},
   "source": [
    "## Gini Impurity"
   ]
  },
  {
   "cell_type": "code",
   "execution_count": null,
   "metadata": {},
   "outputs": [],
   "source": [
    "# Function to calculate Gini Impurity\n",
    "def gini_impurity(labels):\n",
    "    proportions = np.bincount(labels) / len(labels)\n",
    "    return 1 - np.sum(proportions ** 2)"
   ]
  },
  {
   "cell_type": "markdown",
   "metadata": {},
   "source": [
    "## Information Gain"
   ]
  },
  {
   "cell_type": "code",
   "execution_count": null,
   "metadata": {},
   "outputs": [],
   "source": [
    "# Function to calculate Information Gain\n",
    "def information_gain(parent, left, right):\n",
    "    # Calculate Entropy\n",
    "    def entropy(labels):\n",
    "        proportions = np.bincount(labels) / len(labels)\n",
    "        return -np.sum([p * np.log2(p) for p in proportions if p > 0])\n",
    "    \n",
    "    parent_entropy = entropy(parent)\n",
    "    n = len(parent)\n",
    "    n_left, n_right = len(left), len(right)\n",
    "    weighted_entropy = (n_left / n) * entropy(left) + (n_right / n) * entropy(right)\n",
    "    return parent_entropy - weighted_entropy"
   ]
  },
  {
   "cell_type": "markdown",
   "metadata": {},
   "source": [
    "### Use Case"
   ]
  },
  {
   "cell_type": "code",
   "execution_count": null,
   "metadata": {},
   "outputs": [],
   "source": [
    "# Perform a split based on 'sex_encoded'\n",
    "left_split = df[df['sex_encoded'] == 0]['species_encoded']\n",
    "right_split = df[df['sex_encoded'] == 1]['species_encoded']"
   ]
  },
  {
   "cell_type": "markdown",
   "metadata": {},
   "source": [
    "GINI Impurities"
   ]
  },
  {
   "cell_type": "code",
   "execution_count": null,
   "metadata": {},
   "outputs": [],
   "source": [
    "# Calculate Gini Impurity for parent and splits\n",
    "parent_gini = gini_impurity(df['species_encoded'])\n",
    "left_gini = gini_impurity(left_split)\n",
    "right_gini = gini_impurity(right_split)"
   ]
  },
  {
   "cell_type": "code",
   "execution_count": null,
   "metadata": {},
   "outputs": [],
   "source": [
    "# Print Gini Impurities\n",
    "print(\"Parent Gini Impurity:\", parent_gini)\n",
    "print(\"Left Split Gini Impurity:\", left_gini)\n",
    "print(\"Right Split Gini Impurity:\", right_gini)"
   ]
  },
  {
   "cell_type": "markdown",
   "metadata": {},
   "source": [
    "Information Gain"
   ]
  },
  {
   "cell_type": "code",
   "execution_count": null,
   "metadata": {},
   "outputs": [],
   "source": [
    "# Calculate Information Gain for the split\n",
    "parent = df['species_encoded']\n",
    "info_gain = information_gain(parent, left_split, right_split)"
   ]
  },
  {
   "cell_type": "code",
   "execution_count": null,
   "metadata": {},
   "outputs": [],
   "source": [
    "# Print Information Gain\n",
    "print(\"Information Gain for 'sex' split:\", info_gain)"
   ]
  },
  {
   "cell_type": "code",
   "execution_count": null,
   "metadata": {},
   "outputs": [
    {
     "name": "stdout",
     "output_type": "stream",
     "text": [
      "Parent Gini Impurity: 0.6383680978275572\n",
      "Left Split Gini Impurity: 0.638236914600551\n",
      "Right Split Gini Impurity: 0.6383928571428572\n",
      "Information Gain for 'sex' split: 0.00010530129858543624\n"
     ]
    }
   ],
   "source": []
  },
  {
   "cell_type": "code",
   "execution_count": null,
   "metadata": {},
   "outputs": [],
   "source": []
  }
 ],
 "metadata": {
  "kernelspec": {
   "display_name": "Python 3",
   "language": "python",
   "name": "python3"
  },
  "language_info": {
   "codemirror_mode": {
    "name": "ipython",
    "version": 3
   },
   "file_extension": ".py",
   "mimetype": "text/x-python",
   "name": "python",
   "nbconvert_exporter": "python",
   "pygments_lexer": "ipython3",
   "version": "3.10.11"
  }
 },
 "nbformat": 4,
 "nbformat_minor": 2
}
